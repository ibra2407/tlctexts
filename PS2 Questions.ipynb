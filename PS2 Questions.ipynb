{
 "cells": [
  {
   "cell_type": "markdown",
   "metadata": {
    "id": "s6pv_atusVRF"
   },
   "source": [
    "## Lesson Material\n"
   ]
  },
  {
   "cell_type": "markdown",
   "metadata": {
    "id": "wuFuDJLvUJMB"
   },
   "source": [
    "### The boolean operators have precedence - ```and``` has higher priority than ```or```"
   ]
  },
  {
   "cell_type": "markdown",
   "metadata": {
    "id": "XiOCyulxUt5C"
   },
   "source": [
    "Recall from Lesson 1 the boolean operators ```and``` and ```or``` which combine boolean expressions.\n",
    "\n",
    "From the python [table of precedence](https://docs.python.org/3/reference/expressions.html?highlight=precedence#operator-precedence), ```and``` has higher priority than ```or```.\n",
    "\n",
    "(Also notice that ```and``` and ```or``` have lower priority than the mathematical operators).\n",
    "\n",
    "Hence, work out by hand the outcome of the following code, and type it out in the code box to check that you have understood it correctly.\n",
    "\n",
    "```python\n",
    "a = True\n",
    "b = True\n",
    "c = False\n",
    "print(a or b and c)\n",
    "```"
   ]
  },
  {
   "cell_type": "code",
   "execution_count": null,
   "metadata": {
    "id": "s6FVaiYWZSHT"
   },
   "outputs": [],
   "source": []
  },
  {
   "cell_type": "markdown",
   "metadata": {
    "id": "HNkSiRgWUmuY"
   },
   "source": [
    "### Recall that you have used several Python built-in functions"
   ]
  },
  {
   "cell_type": "markdown",
   "metadata": {
    "id": "UwJyDDqcIgfk"
   },
   "source": [
    "A **function** is a set of instructions that are carried out when called or executed.  \n",
    "\n",
    "You have encountered some **built-in functions**, which are functions that python has already defined and provided to you to use.\n",
    "```\n",
    "a = 3.142\n",
    "print(a)\n",
    "type(a)\n",
    "b = int(a)\n",
    "c = str(a)\n",
    "```\n",
    "\n",
    "For example, the ```print()``` function will have its own set of instructions or code. When these are executed, it will display its arguments on the screen.\n",
    "\n",
    "The ```type()``` function will have another set of instructions or code, that when executed, it will be able to tell you the data type of its argument.\n",
    "\n",
    "And so on for the ```int()``` and other functions.\n",
    "\n",
    "Because these are **built-in functions**, the code that implements these instructions are hidden from you. All you need to do is to know how to use these functions.\n",
    "\n"
   ]
  },
  {
   "cell_type": "markdown",
   "metadata": {
    "id": "6xC8XpzCS-zD"
   },
   "source": [
    "### Recall that there are two ways the built-in functions are used"
   ]
  },
  {
   "cell_type": "markdown",
   "metadata": {
    "id": "WbiBjIEXRh8s"
   },
   "source": [
    "For example, the built-in function ```print()``` displays its arguments on the screen.\n",
    "\n",
    "Recall that you execute it as follows.\n",
    "\n",
    "```python\n",
    "print('hello')\n",
    "```"
   ]
  },
  {
   "cell_type": "markdown",
   "metadata": {
    "id": "MEgfLuT7R7Wy"
   },
   "source": [
    "Notice that for other built-in functions like  ```int()```, you have to use it slightly differently.\n",
    "\n",
    "After taking in its argument, it **returns** a new data type, which has to be assigned to another variable.\n",
    "```python\n",
    "a = 1.0\n",
    "b = int(a)\n",
    "```\n",
    "\n"
   ]
  },
  {
   "cell_type": "markdown",
   "metadata": {
    "id": "arNs5SvnU411"
   },
   "source": [
    "### When using a function, you **execute** a function or **call** a function"
   ]
  },
  {
   "cell_type": "markdown",
   "metadata": {
    "id": "rvbBfKoyIoi1"
   },
   "source": [
    "**What does it mean to execute a function?**\n",
    "\n",
    "Consider the following example.\n",
    "\n",
    "```python\n",
    "a = \"hello\"\n",
    "print(a)\n",
    "```\n",
    "This is seen on the screen:\n",
    "```\n",
    "hello\n",
    "```\n",
    "\n",
    "In Line 1, a variable ```a``` is declared and assigned to the string ```\"hello\"```.\n",
    "\n",
    "In Line 2, the ```print()``` function is **called** or **executed**. The variable ```a``` is passed to the function as an argument. The value of ```a``` is then displayed on the screen.\n",
    "\n",
    "Hence, by **executing** the ```print()``` function in line 2, python runs the instructions that are contained within the ```print()``` function to display all its arguments on the screen.   "
   ]
  },
  {
   "cell_type": "markdown",
   "metadata": {
    "id": "eWLQYfgKMFqZ"
   },
   "source": [
    "### Built-In Functions ```abs()``` and ```round()```\n",
    "\n",
    "Run the following statements to see what the built-in functions, ```round()``` and  ```abs()``` do."
   ]
  },
  {
   "cell_type": "code",
   "execution_count": null,
   "metadata": {
    "id": "FwxHNjnKRV87"
   },
   "outputs": [],
   "source": [
    "a = -3.142\n",
    "b = round(a,1)\n",
    "c = abs(a)\n",
    "print(b)\n",
    "print(c)"
   ]
  },
  {
   "cell_type": "markdown",
   "metadata": {
    "id": "TL5u0Oz4Rjlp"
   },
   "source": [
    "Consider the following questions.    \n",
    "- How many inputs does the ```round()``` function require? What do these inputs represent?\n",
    "- At which line(s) do you execute the ```print()``` function?    \n",
    "- At which line(s) do you execute the ```abs()``` function?"
   ]
  },
  {
   "cell_type": "markdown",
   "metadata": {
    "id": "yy57fa5GptO1"
   },
   "source": [
    "### Be aware that the ```round()``` function does not have the same behaviour taught in your maths classes"
   ]
  },
  {
   "cell_type": "markdown",
   "metadata": {
    "id": "3jlYW8FDp1f2"
   },
   "source": [
    "This is described in the [documentation](https://docs.python.org/3/library/functions.html#round). Please read it for the full details. In particular:\n",
    "\n",
    "---\n",
    ">\n",
    "> The behaviour ... for floats can be surprising ... it's a result of the fact that most decimal fractions can’t be represented exactly as a float.\n",
    ">\n",
    "---\n",
    "\n",
    "You can see this behaviour when running the code cell below.\n",
    "\n",
    "When solving programming problems in our course, do not worry about this behaviour, just use the ```round()``` function when you are required to."
   ]
  },
  {
   "cell_type": "code",
   "execution_count": null,
   "metadata": {
    "id": "dyCVXmjWrEk4"
   },
   "outputs": [],
   "source": [
    "a = round(2.55, 1)\n",
    "b = round(2.65, 1)\n",
    "c = round(2.75, 1)\n",
    "d = round(2.85, 1)\n",
    "## Write a print statement to display the values"
   ]
  },
  {
   "cell_type": "markdown",
   "metadata": {
    "id": "4fyYxRWbVUSJ"
   },
   "source": [
    "### You can use mathematical functions by importing the ```math``` module."
   ]
  },
  {
   "cell_type": "markdown",
   "metadata": {
    "id": "mSKOm_F_VZ5m"
   },
   "source": [
    "There are a limited number of built-in functions.\n",
    "\n",
    "By importing **modules**, you gain access to more functions.\n",
    "\n",
    "One such module is the ```math``` module.\n",
    "\n",
    "The following example shows you how to import and use a function from the ```math``` module.\n",
    "\n",
    "You can learn more about the other functions in the ```math``` module by reading the documentation."
   ]
  },
  {
   "cell_type": "code",
   "execution_count": null,
   "metadata": {
    "id": "bnuKqpDaVzgP"
   },
   "outputs": [],
   "source": [
    "import math\n",
    "a = math.sqrt(2)\n",
    "print(a)"
   ]
  },
  {
   "cell_type": "markdown",
   "metadata": {
    "id": "wpTW8YbsIEaf"
   },
   "source": [
    "### There are three ways to import from a module."
   ]
  },
  {
   "cell_type": "markdown",
   "metadata": {
    "id": "s91WCI8-IT41"
   },
   "source": [
    "**```from [module] import [function] ```**\n",
    "\n",
    "If your intention is to use only one function from the math module, e.g. the ```sqrt()``` function, you can use the following import statement.  You can then use the function name directly.\n",
    "\n",
    "This is useful for short programs that you want to write quickly.\n",
    "\n",
    "You will need to read the documentation to know what functions are available for you.\n",
    "\n"
   ]
  },
  {
   "cell_type": "code",
   "execution_count": null,
   "metadata": {
    "id": "dmjIEs99IrtW"
   },
   "outputs": [],
   "source": [
    "from math import sqrt\n",
    "\n",
    "a = sqrt(2)\n",
    "print(a)"
   ]
  },
  {
   "cell_type": "markdown",
   "metadata": {
    "id": "YmQk8GffJGom"
   },
   "source": [
    "**```from [module] import *```**\n",
    "\n",
    "Another option is to import all functions directly.  You can then execute any of the functions as you wish."
   ]
  },
  {
   "cell_type": "code",
   "execution_count": null,
   "metadata": {
    "id": "JwHEOdbDJhrv"
   },
   "outputs": [],
   "source": [
    "from math import *\n",
    "t = 1\n",
    "x = sin(t)\n",
    "y = cos(t)\n",
    "print(x,y)"
   ]
  },
  {
   "cell_type": "markdown",
   "metadata": {
    "id": "iwk9dxW5K2ah"
   },
   "source": [
    "**There are disadvantages to the ```from [module] import [function or *] ``` syntax.**\n",
    "\n",
    "1. It does not communicate clearly where the function comes from e.g. a reader of your code  needs to be aware of the import statement above.\n",
    "2. With this way of importing, if your own function has the same name as a module function, you will override the module function."
   ]
  },
  {
   "cell_type": "code",
   "execution_count": null,
   "metadata": {
    "colab": {
     "base_uri": "https://localhost:8080/",
     "height": 52
    },
    "id": "gofeLxZXL4-a",
    "outputId": "108e67b1-ef75-4f8c-a69f-ac841c10fec8"
   },
   "outputs": [
    {
     "name": "stdout",
     "output_type": "stream",
     "text": [
      "0.7853981633974483\n",
      "0.5\n"
     ]
    }
   ],
   "source": [
    "### Here is an extreme example.\n",
    "### atan returns the arctangent, but ...\n",
    "\n",
    "from math import atan\n",
    "\n",
    "a = atan(1)\n",
    "print(a)\n",
    "\n",
    "### Now you define a function with exactly the same name\n",
    "def atan(p):\n",
    "  return p/2\n",
    "\n",
    "### see what happens\n",
    "b = atan(1)\n",
    "print(b)\n",
    "\n"
   ]
  },
  {
   "cell_type": "markdown",
   "metadata": {
    "id": "VfyulJvGJvVn"
   },
   "source": [
    "**```import [module]```**\n",
    "\n",
    "**We recommend that you do this**. Without getting too technical, this imports the module itself, and to access any function, you have to preface the function with the module name.  \n",
    "\n",
    "This solves the disadvantages mentioned above.\n",
    "\n"
   ]
  },
  {
   "cell_type": "code",
   "execution_count": null,
   "metadata": {
    "id": "gkUNPBAmKaPf"
   },
   "outputs": [],
   "source": [
    "import math\n",
    "t = 1\n",
    "x = math.sin(t)\n",
    "y = math.cos(t)\n",
    "print(x,y)"
   ]
  },
  {
   "cell_type": "markdown",
   "metadata": {
    "id": "oWdKT11MqXEk"
   },
   "source": [
    "### In computer programs, oftentimes, the same task can be executed more than once."
   ]
  },
  {
   "cell_type": "markdown",
   "metadata": {
    "id": "xh5SdFuzqbmT"
   },
   "source": [
    "Creating your own function is one of the most common tasks as a programmer.\n",
    "\n",
    "Let's suppose that, as part of a larger program, you want to display your name and a piece of information about yourself on the screen. You could type this code:\n",
    "\n",
    "```python\n",
    "print(\"Ash Ketchum\")\n",
    "print(\"Pokemon trainer\")\n",
    "```\n",
    "\n",
    "In a typical program, there will be tasks that are carried out more than once.  \n",
    "\n",
    "For example, if you are required to display your details three times, you could write the code three times:\n",
    "\n",
    "```python\n",
    "print(\"Ash Ketchum\")\n",
    "print(\"Pokemon trainer\")\n",
    "#snip\n",
    "print(\"Ash Ketchum\")\n",
    "print(\"Pokemon trainer\")\n",
    "#snip\n",
    "print(\"Ash Ketchum\")\n",
    "print(\"Pokemon trainer\")\n",
    "```\n",
    "\n",
    "Can you think of the disadvantages of this approach?\n",
    "\n"
   ]
  },
  {
   "cell_type": "markdown",
   "metadata": {
    "id": "EbA1gzIIt4a5"
   },
   "source": [
    "### To do this more efficiently, you can create your own function."
   ]
  },
  {
   "cell_type": "markdown",
   "metadata": {
    "id": "4LlcV7POuALf"
   },
   "source": [
    "The solution to the disadvantages is to create your own function.\n",
    "\n",
    "You can then execute it whenever you need to carry out this task of displaying information.  \n",
    "\n",
    "A function gives a name to a set of tasks and stores it in the memory, waiting to be executed by the programmer.\n",
    "\n",
    "A function is like a machine, waiting for you to get it to do the tasks that it is designed for.\n",
    "\n",
    "```python  \n",
    "#---function definition--------\n",
    "def display_details():\n",
    "     print(\"Ash Ketchum\")\n",
    "     print(\"Pokemon trainer\")\n",
    "#------------------------------\n",
    "\n",
    "#executing the function\n",
    "display_details()\n",
    "#snip\n",
    "display_details()\n",
    "#snip\n",
    "display_details()\n",
    "```\n",
    "\n",
    "How does using a function solve the disadvantages of the previous code?"
   ]
  },
  {
   "cell_type": "markdown",
   "metadata": {
    "id": "UymluKJvt9UH"
   },
   "source": [
    "### A function has a header and a body  "
   ]
  },
  {
   "cell_type": "markdown",
   "metadata": {
    "id": "QWGOuCvxvdLz"
   },
   "source": [
    "Let's take apart the function line by line.\n",
    "\n",
    "```python\n",
    "def display_details():\n",
    "```\n",
    "\n",
    "This is the **function header**.\n",
    "\n",
    "- It starts with the ```def``` keyword.\n",
    "- The name of the function follows.\n",
    "- A pair of parentheses specifies the parameters of the function. This function has no parameters.\n",
    "- The colon ```:``` ends the function header.\n",
    "\n"
   ]
  },
  {
   "cell_type": "markdown",
   "metadata": {
    "id": "fUZyFaZ_vqgx"
   },
   "source": [
    "These are the next two lines of the function.\n",
    "\n",
    "```python\n",
    "    print(\"Ash Ketchum\")\n",
    "    print(\"Pokemon trainer\")\n",
    "```\n",
    "\n",
    "This is the **body** of a function.\n",
    "\n",
    "The statements that form the body of the function are indented four spaces.  \n",
    "\n",
    "Recall that a function is a set of instructions that are carried out when called or executed.\n",
    "\n",
    "The body of the function thus contain the instructions to be carried out when the function is called or executed.\n",
    "\n"
   ]
  },
  {
   "cell_type": "markdown",
   "metadata": {
    "id": "lrvVsGfQBtoM"
   },
   "source": [
    "### A function can have parameters"
   ]
  },
  {
   "cell_type": "markdown",
   "metadata": {
    "id": "E7ahzuZZy54J"
   },
   "source": [
    "Notice that the built-in functions like ```print()```, ```int()``` and so on take in **arguments**.\n",
    "\n",
    "This makes these functions flexible e.g. you can display anything you like to the screen.\n",
    "\n",
    "Similar, you can make your ```display_details()``` function more flexible by specifying that it has parameters.\n",
    "\n",
    "```python\n",
    "def display_details(name, occupation):\n",
    "    print(name)\n",
    "    print(occupation)\n",
    "```\n",
    "\n",
    "Since the function takes in two parameters, when you execute the function, you need to pass two arguments to it.\n",
    "\n",
    "```python\n",
    "display_details(\"Ash Ketchum\", \"Pokemon Trainer\")\n",
    "display_details(\"Mr Bean\", \"Comedian\")\n",
    "```"
   ]
  },
  {
   "cell_type": "markdown",
   "metadata": {
    "id": "zU8g1RlmO4I6"
   },
   "source": [
    "---\n",
    "> **Note**\n",
    ">\n",
    "> Some functions can take in any number of arguments e.g. ```print()```. Furthermore, some arguments need to have keywords. See the [documentation](https://docs.python.org/3/library/functions.html#print)\n",
    ">\n",
    "> Thus it is possible for you to design a function that accepts any number of arguments but we will not discuss that in this course.  \n",
    ">  \n",
    "\n",
    "---"
   ]
  },
  {
   "cell_type": "markdown",
   "metadata": {
    "id": "ip5YImDSy8-u"
   },
   "source": [
    "### A function can have local variables\n"
   ]
  },
  {
   "cell_type": "markdown",
   "metadata": {
    "id": "0AE_O1NF415G"
   },
   "source": [
    "Let's consider another example.\n",
    "\n",
    "```python\n",
    "def quadratic(x):\n",
    "     y = x*x + 5*x + 4\n",
    "     print(y)\n",
    "\n",
    "quadratic(1)\n",
    "```\n",
    "\n",
    "In this example, we have a function that has one parameter, carries out some calculation with it and displays the result on the screen.\n",
    "\n",
    "Notice that the result of the calculation is assigned to the variable ```y```.\n",
    "\n",
    "As ```y``` is declared within the function, it is known as a **local variable**.\n"
   ]
  },
  {
   "cell_type": "markdown",
   "metadata": {
    "id": "bzVAA1Vx4-mo"
   },
   "source": [
    "### Local variables in a function cannot be accessed outside the function."
   ]
  },
  {
   "cell_type": "markdown",
   "metadata": {
    "id": "I_xCyFN97c-4"
   },
   "source": [
    "The local variables are created when a function is executed, and are destroyed when the function terminates.\n",
    "\n",
    "We say these local variables exist within the **scope** of the function.\n",
    "\n",
    "Thus, they cannot be accessed outside the function.\n",
    "\n",
    "Consider the following example.\n",
    "\n",
    "Why does statement ```(b)``` result in an error?"
   ]
  },
  {
   "cell_type": "code",
   "execution_count": null,
   "metadata": {
    "id": "NVgPNaB87MDC"
   },
   "outputs": [],
   "source": [
    "def quadratic1(x):\n",
    "     y = x*x + 5*x + 4\n",
    "     print('In the function',y) #(a)\n",
    "\n",
    "quadratic1(1)\n",
    "print('Outside the function',y) #(b)"
   ]
  },
  {
   "cell_type": "markdown",
   "metadata": {
    "id": "x19kWHsKzAse"
   },
   "source": [
    "### A function can return information"
   ]
  },
  {
   "cell_type": "markdown",
   "metadata": {
    "id": "sNdLYMFc7LTq"
   },
   "source": [
    "A function can have a ```return``` statement.\n",
    "\n",
    "The ```return``` statement is always the final statement in the function and terminates the function.\n",
    "\n",
    "When the function terminates, the ```return``` statement gives back a value to the python statement that executed the function.\n",
    "\n",
    "Thus, at statement ```(a)```,\n",
    "- the function ```quadratic2``` is executed\n",
    "- and because it returns a value, the value is assigned to a variable called ```result```.\n",
    "\n",
    "```python\n",
    "def quadratic2(x):\n",
    "    y = x*x + 5*x + 4\n",
    "    return y\n",
    "\n",
    "result = quadratic2(1) #(a)\n",
    "print(result)\n",
    "```\n",
    "\n",
    "\n"
   ]
  },
  {
   "cell_type": "markdown",
   "metadata": {
    "id": "2-eH18iVTWY6"
   },
   "source": [
    "---\n",
    ">\n",
    "> Recall that this is similar to built-in functions that return a value\n",
    "> ```python\n",
    "> a = int(1.0)\n",
    "> ```\n",
    "---"
   ]
  },
  {
   "cell_type": "markdown",
   "metadata": {
    "id": "ZIMhZ56IzLX2"
   },
   "source": [
    "### A function without a return statement returns ```None```"
   ]
  },
  {
   "cell_type": "markdown",
   "metadata": {
    "id": "yNFBOTQETx8K"
   },
   "source": [
    "A function without a return statement returns ```None```.\n",
    "\n",
    "In such a function, the function terminates after the final statement in the function.\n",
    "\n",
    "Notice that when you execute such functions, you do not need any assignment."
   ]
  },
  {
   "cell_type": "code",
   "execution_count": null,
   "metadata": {
    "id": "MpfDKlIwT1NZ"
   },
   "outputs": [],
   "source": [
    "def quadratic3(x):\n",
    "     y = x*x + 5*x + 4\n",
    "     print('In the function',y)\n",
    "     #notice that there is no return statement\n",
    "\n",
    "quadratic3(1) #therefore you just need to execute the function"
   ]
  },
  {
   "cell_type": "markdown",
   "metadata": {
    "id": "SmvnejxTUDwz"
   },
   "source": [
    "---\n",
    ">\n",
    "> Recall that this is similar to executing the ```print()``` function\n",
    "> ```python\n",
    "> print(1.0)\n",
    "> ```\n",
    ">\n",
    "\n",
    "---"
   ]
  },
  {
   "cell_type": "markdown",
   "metadata": {
    "id": "KGfTXhz1AZFw"
   },
   "source": [
    "Suppose a programmer is unaware of this.\n",
    "\n",
    "Thus, in statement ```(a)``` below, what is the value of ```result```?\n",
    "\n",
    "```python\n",
    "def quadratic_test(x):\n",
    "     y = x*x + 5*x + 4\n",
    "     print('In the function',y)\n",
    "\n",
    "result = quadratic_test(1)  #(a)\n",
    "print(result)\n",
    "```\n",
    "Run the code in the cell below to find out.\n"
   ]
  },
  {
   "cell_type": "code",
   "execution_count": null,
   "metadata": {
    "id": "LHg__KGXA3S5"
   },
   "outputs": [],
   "source": [
    "def quadratic_test(x):\n",
    "     y = x*x + 5*x + 4\n",
    "     print('In the function',y)\n",
    "\n",
    "result = quadratic_test(1)  #(a)\n",
    "print(result)"
   ]
  },
  {
   "cell_type": "markdown",
   "metadata": {
    "id": "hOFS6MNHuqAz"
   },
   "source": [
    "You may also visualize what happens in the memory by running your code in [pythontutor.com](http://www.pythontutor.com/visualize.html).\n"
   ]
  },
  {
   "cell_type": "markdown",
   "metadata": {
    "id": "hJErGYvKFBZy"
   },
   "source": [
    "### The result of one function can be passed to another function"
   ]
  },
  {
   "cell_type": "markdown",
   "metadata": {
    "id": "6PygxC2JDruH"
   },
   "source": [
    "By making one function as the input argument of another function, the result is passed to the other function.\n",
    "\n",
    "For example, the result of ```float('1.0')``` is given to the ```int()``` function.\n",
    "\n",
    "```python\n",
    "a = int( float('1.0') )\n",
    "```"
   ]
  },
  {
   "cell_type": "markdown",
   "metadata": {
    "id": "d6t03yJ4VP5o"
   },
   "source": [
    "Consider the following examples 1 and 2, both of which do the same thing.\n",
    "\n",
    "Can you explain why?"
   ]
  },
  {
   "cell_type": "code",
   "execution_count": null,
   "metadata": {
    "id": "xDsgu42KE1MS"
   },
   "outputs": [],
   "source": [
    "# Example 1\n",
    "def quadratic2(x):\n",
    "    y = x*x + 5*x + 4\n",
    "    return y\n",
    "\n",
    "a = quadratic2(1)\n",
    "b = float(a)\n",
    "print(b)"
   ]
  },
  {
   "cell_type": "code",
   "execution_count": null,
   "metadata": {
    "id": "ZuwzyB9HE4Q3"
   },
   "outputs": [],
   "source": [
    "# Example 2\n",
    "def quadratic2(x):\n",
    "    y = x*x + 5*x + 4\n",
    "    return y\n",
    "\n",
    "b = float( quadratic2(1) )\n",
    "print(b)"
   ]
  },
  {
   "cell_type": "markdown",
   "metadata": {
    "id": "qHJ9vIUKFRU4"
   },
   "source": [
    "### You can execute functions within a function itself"
   ]
  },
  {
   "cell_type": "markdown",
   "metadata": {
    "id": "_gfsSIoMFYqZ"
   },
   "source": [
    "It does not matter whether that function is a built-in function, from a module or your own custom function."
   ]
  },
  {
   "cell_type": "code",
   "execution_count": null,
   "metadata": {
    "id": "U-mrDNrsFfQT"
   },
   "outputs": [],
   "source": [
    "import math\n",
    "\n",
    "def some_example(A, t):\n",
    "    x = A*math.cos(w*t)\n",
    "    x = round(x , 1)\n",
    "    return x\n",
    "\n",
    "print( some_example(2.0, 1.5))"
   ]
  },
  {
   "cell_type": "markdown",
   "metadata": {
    "id": "4cgSW_NtGhjq"
   },
   "source": [
    "### Consider this"
   ]
  },
  {
   "cell_type": "markdown",
   "metadata": {
    "id": "aSSGdXCyGY77"
   },
   "source": [
    "\n",
    "\n",
    "What will you see on the screen? Why?\n",
    "\n",
    "```python\n",
    "print( print(1.0) )\n",
    "```"
   ]
  },
  {
   "cell_type": "markdown",
   "metadata": {
    "id": "wdy1QBaIGlXQ"
   },
   "source": [
    "### Keyboard Input vs Input to a function"
   ]
  },
  {
   "cell_type": "markdown",
   "metadata": {
    "id": "-PLcSz-mGqBz"
   },
   "source": [
    "You will hear the word **input** used rather often in the following contexts.\n",
    "\n",
    "In programming, **input** means the process of giving something some information.  \n",
    "\n",
    "Thus,\n",
    "- *keyboard input* means getting the user to type in data via the keyboard, that is to be given to a computer program\n",
    "- *input to a function* means that the function has some data passed to it via its arguments."
   ]
  },
  {
   "cell_type": "markdown",
   "metadata": {
    "id": "cE6ZPCa6V-Sb"
   },
   "source": [
    "### Short-circuit evaluation is used with the boolean operators ```and``` and ```or```"
   ]
  },
  {
   "cell_type": "markdown",
   "metadata": {
    "id": "AVRyulI1WF92"
   },
   "source": [
    "The [python documentation](https://docs.python.org/3/reference/expressions.html?highlight=precedence#boolean-operations) describes how **short-circuit** evaluation works.\n",
    "\n",
    "---\n",
    ">\n",
    "> 1. The expression ```x and y``` first evaluates ```x```; if ```x``` is false, its value is returned; otherwise, ```y``` is evaluated and the resulting value is returned.\n",
    ">\n",
    "> 2. The expression ```x or y``` first evaluates ```x```; if ```x``` is true, its value is returned; otherwise, ```y``` is evaluated and the resulting value is returned.\n",
    ">\n",
    "---\n"
   ]
  },
  {
   "cell_type": "markdown",
   "metadata": {
    "id": "aYW0hQZ4WyoI"
   },
   "source": [
    "Consider the following statement.\n",
    "\n",
    "```python\n",
    "(2 > 1 ) or (10 < 3)\n",
    "```\n",
    "\n",
    "Python applies **short-circuit evaluation** here:  \n",
    "- Since ```(2 > 1)``` evaluates to ```True```, python decides that it is not necessary to evaluate ```(10 < 3)```.\n",
    "\n",
    "- This is because evaluating ```(10 < 3)``` will not change the outcome of the expression.\n",
    "\n",
    "\n",
    "---\n",
    "> **Think about it**\n",
    ">  \n",
    "> How might you write an expression involving ```and``` where python applies short-circuit evaluation?\n",
    ">\n",
    "---\n",
    "\n",
    "\n",
    "\n",
    "\n"
   ]
  },
  {
   "cell_type": "markdown",
   "metadata": {
    "id": "C4LIOy4ynox7"
   },
   "source": [
    "## Problems"
   ]
  },
  {
   "cell_type": "markdown",
   "metadata": {},
   "source": [
    "### Starter Guide"
   ]
  },
  {
   "cell_type": "markdown",
   "metadata": {},
   "source": [
    "Write a function called greet that prints \"Hello, world!\" when called. Then, call the function to see the output."
   ]
  },
  {
   "cell_type": "code",
   "execution_count": null,
   "metadata": {},
   "outputs": [],
   "source": [
    "def greet():\n",
    "    # Your code here\n",
    "\n",
    "greet() # What happens when we don't specify any arguments?"
   ]
  },
  {
   "cell_type": "markdown",
   "metadata": {},
   "source": [
    "Write a function called greet_person that takes one argument, name, and prints \"Hello, [name]!\" when called. Call the function with your name as the argument."
   ]
  },
  {
   "cell_type": "code",
   "execution_count": null,
   "metadata": {},
   "outputs": [],
   "source": [
    "def greet_person(name):\n",
    "    # Your code here\n",
    "\n",
    "greet_person(\"Alice\")\n"
   ]
  },
  {
   "cell_type": "markdown",
   "metadata": {},
   "source": [
    "Write a function called temperature_check that takes one argument temp (temperature in degrees). If the temperature is above 30, print \"It's hot!\". If it's between 15 and 30 (inclusive), print \"It's warm.\" If it's below 15, print \"It's cold.\""
   ]
  },
  {
   "cell_type": "code",
   "execution_count": null,
   "metadata": {},
   "outputs": [],
   "source": [
    "def temperature_check(temp):\n",
    "    # Your code here\n",
    "\n",
    "temperature_check(35)  # Expected output: It's hot!\n",
    "temperature_check(20)  # Expected output: It's warm.\n",
    "temperature_check(10)  # Expected output: It's cold.\n"
   ]
  },
  {
   "cell_type": "markdown",
   "metadata": {},
   "source": [
    "Write a function called is_even that takes a number as an argument and returns True if the number is even and False if it's odd. Use an if-else statement to check if the number is divisible by 2."
   ]
  },
  {
   "cell_type": "code",
   "execution_count": null,
   "metadata": {},
   "outputs": [],
   "source": [
    "def is_even(number):\n",
    "    # Your code here\n",
    "\n",
    "print(is_even(4))  # Expected output: True\n",
    "print(is_even(7))  # Expected output: False\n"
   ]
  },
  {
   "cell_type": "markdown",
   "metadata": {},
   "source": [
    "Complete the basic calculator code below. You can test your own output!"
   ]
  },
  {
   "cell_type": "code",
   "execution_count": null,
   "metadata": {},
   "outputs": [],
   "source": [
    "def add(x, y):\n",
    "    # Your code here\n",
    "\n",
    "def subtract(x, y):\n",
    "    # Your code here\n",
    "\n",
    "def multiply(x, y):\n",
    "    # Your code here\n",
    "\n",
    "def divide(x, y):\n",
    "    # Your code here\n",
    "\n",
    "def calculate():\n",
    "    x = int(input(\"Enter first number: \"))\n",
    "    y = int(input(\"Enter second number: \"))\n",
    "    operation = input(\"Choose operation (add, subtract, multiply, divide): \")\n",
    "    \n",
    "    if operation == \"add\":\n",
    "        print(\"Result:\", add(x, y))\n",
    "    elif operation == \"subtract\":\n",
    "        print(\"Result:\", subtract(x, y))\n",
    "    elif operation == \"multiply\":\n",
    "        print(\"Result:\", multiply(x, y))\n",
    "    elif operation == \"divide\":\n",
    "        print(\"Result:\", divide(x, y))\n",
    "    else:\n",
    "        print(\"Invalid operation\")\n",
    "\n",
    "calculate()"
   ]
  },
  {
   "cell_type": "markdown",
   "metadata": {
    "id": "nXLmxiOHnrIb"
   },
   "source": [
    "### Problem 2.01"
   ]
  },
  {
   "cell_type": "markdown",
   "metadata": {
    "id": "oPX0RV-untfS"
   },
   "source": [
    "Write a function ```postal_address``` that has three parameters\n",
    "- ```number```\n",
    "- ```road_name```\n",
    "- ```postal code```\n",
    "\n",
    "When it is executed, it **displays the formatted address on the screen** as follows.\n",
    "\n",
    "```python\n",
    "1 Parkway Centre\n",
    "Singapore 449408\n",
    "\n",
    "```\n"
   ]
  },
  {
   "cell_type": "code",
   "execution_count": null,
   "metadata": {
    "id": "1VB_i0Vfoxv8"
   },
   "outputs": [],
   "source": [
    "def postal_address(number, road_name, postal_code):\n",
    "    # Your solution here\n",
    "    pass\n",
    "\n",
    "# Write code to execute the function"
   ]
  },
  {
   "cell_type": "markdown",
   "metadata": {
    "id": "7WuQ-f16odxI"
   },
   "source": [
    "### Problem 2.02"
   ]
  },
  {
   "cell_type": "markdown",
   "metadata": {
    "id": "76z8MvdmokfV"
   },
   "source": [
    "Write a function ```postal_address``` that has three parameters\n",
    "- ```number```\n",
    "- ```road_name```\n",
    "- ```postal code```\n",
    "\n",
    "When it is executed, it **returns a string. When the string is printed**, it reads as follows.\n",
    "\n",
    "Compare and contrast the requirements of this example with the previous one.\n",
    "\n",
    "```python\n",
    "1 Parkway Centre\n",
    "Singapore 449408\n",
    "```\n",
    "\n",
    "Recall that:\n",
    "- the ```+``` operator can be used with strings     \n",
    "- the escape character ```\\n``` produces a newline\n",
    "- the ```str()``` function, given any datatype, returns a string\n",
    "\n"
   ]
  },
  {
   "cell_type": "code",
   "execution_count": null,
   "metadata": {
    "id": "whkdymYno6dU"
   },
   "outputs": [],
   "source": [
    "def postal_address(number, road_name, postal_code):\n",
    "    # Your solution here\n",
    "    pass\n",
    "\n",
    "# Write code to execute the function"
   ]
  },
  {
   "cell_type": "markdown",
   "metadata": {
    "id": "b0v1n1wKRiJ0"
   },
   "source": [
    "---\n",
    "> **Reflect**\n",
    ">\n",
    "> 1. What is the purpose(s) of a return statement at the end of a function?\n",
    ">\n",
    "> 2. What happens if a function lacks a return statement at the end?\n",
    ">\n",
    "> 3. Thus, although Examples 2.01 and 2.02 seem to achieve the same outcome, what was different in how this was achieved?\n",
    ">\n",
    "\n",
    "---"
   ]
  },
  {
   "cell_type": "markdown",
   "metadata": {
    "id": "CFZ9Aj9wiWbh"
   },
   "source": [
    "### Problem 2.03 Factorial"
   ]
  },
  {
   "cell_type": "markdown",
   "metadata": {
    "id": "2waS6xVLicHV"
   },
   "source": [
    "Write a function ```factorial``` that takes in an integer that is 0 or larger and returns the factorial.\n",
    "\n",
    "---\n",
    "> **Hint**\n",
    ">\n",
    "> The ```range``` function can take in two inputs\n",
    "> ```python\n",
    "> for i in range(1, 10):\n",
    ">     print(i)\n",
    "> ```\n",
    "> means ```i``` will take values from 1 to 9, in increments of 1.\n",
    "---\n",
    "```python\n",
    "print( factorial(0) )\n",
    "print( factorial(3) )\n",
    "```\n",
    "\n",
    "gives\n",
    "\n",
    "\n",
    "```python\n",
    "1\n",
    "6\n",
    "```"
   ]
  },
  {
   "cell_type": "code",
   "execution_count": null,
   "metadata": {},
   "outputs": [],
   "source": [
    "def factorial(n):\n",
    "    pass\n",
    "# Your code here"
   ]
  },
  {
   "cell_type": "markdown",
   "metadata": {
    "id": "0UNmjbaydWt4"
   },
   "source": [
    "### Problem 2.04 Short-circuit Evaluation\n",
    "\n"
   ]
  },
  {
   "cell_type": "markdown",
   "metadata": {
    "id": "z4zHLxmodbtH"
   },
   "source": [
    "Consider the following code. Can you use the concept of short-circuit evaluation to explain what you see on the screen?\n",
    "\n",
    "```python\n",
    "def is_tens(a):\n",
    "  print(\"is_tens\")\n",
    "  return a >= 10\n",
    "\n",
    "##TODO 1. Complete this function to return True if a is odd and False otherwise.\n",
    "def is_odd(a):\n",
    "  print(\"is_odd\")\n",
    "  ## only one line is needed here!\n",
    "\n",
    "##TODO 2. Predict what you will see on the screen.\n",
    "print( is_odd(3) or is_tens(11) )  ## (a)\n",
    "print( is_odd(2) and is_tens(11) ) ## (b)\n",
    "print( is_odd(2) or is_tens(11) )  ## (c)\n"
   ]
  },
  {
   "cell_type": "markdown",
   "metadata": {
    "id": "Dj-TT4QbdxP0"
   },
   "source": [
    "### Problem 2.05 Turtle Squares"
   ]
  },
  {
   "cell_type": "markdown",
   "metadata": {
    "id": "5RhYSKl3fUFV"
   },
   "source": [
    "In this example, you will draw any number of squares as you wish using Turtle.\n",
    "\n"
   ]
  },
  {
   "cell_type": "markdown",
   "metadata": {
    "id": "Y9L2Iz9Sfi1e"
   },
   "source": [
    "1. Define a function ```draw_square``` that has two parameters:\n",
    "  - ```t```, the turtle object\n",
    "  - ```size```, the length of one side of the square\n",
    "\n",
    "  This function draws a square of side ```size```.\n",
    "\n",
    "2. The turtle function ```setposition()``` moves the turtle to the position that you specify e.g. the following code moves the turtle to the position (10, 20).\n",
    "\n",
    "  ```python\n",
    "  t.setposition(10, 20)\n",
    "  ```\n",
    "\n",
    "3. Recall that as the turtle moves, it draws a line. The ```penup()``` and ```pendown()``` commands are helpful for you to control when the line is drawn.\n",
    "\n",
    "4. Write a script that draws squares at the position that you wish."
   ]
  },
  {
   "cell_type": "markdown",
   "metadata": {
    "id": "DIolmNEqgoXH"
   },
   "source": [
    "Here's a sample script to start you off.\n",
    "\n",
    "```python\n",
    "\n",
    "import turtle\n",
    "t = turtle.Turtle()\n",
    "\n",
    "## TODO 1. Complete the rest of the function.\n",
    "## t is a parameter that represents the turtle\n",
    "\n",
    "def draw_square(t, size):\n",
    "    pass\n",
    "\n",
    "## TODO 2. use setposition() to move the turtle to any position you like.\n",
    "\n",
    "## TODO 3. draw the square by executing the function.\n",
    "\n",
    "## TODO 4. repeat TODO 2 and 3 as many times as you like.  \n",
    "```"
   ]
  }
 ],
 "metadata": {
  "colab": {
   "collapsed_sections": [
    "arNs5SvnU411",
    "eWLQYfgKMFqZ"
   ],
   "provenance": []
  },
  "kernelspec": {
   "display_name": "Python 3",
   "name": "python3"
  }
 },
 "nbformat": 4,
 "nbformat_minor": 0
}
